{
 "cells": [
  {
   "cell_type": "markdown",
   "metadata": {},
   "source": [
    "<center>\n",
    "    <h1>cpp kernel based on xeus</h1>\n",
    "</center>"
   ]
  },
  {
   "cell_type": "markdown",
   "metadata": {},
   "source": [
    "# Simple code execution"
   ]
  },
  {
   "cell_type": "code",
   "execution_count": null,
   "metadata": {},
   "outputs": [],
   "source": [
    "a = 3"
   ]
  }
 ],
 "metadata": {
  "kernelspec": {
   "display_name": "Python 14 (xcpp)",
   "language": "x-c++src",
   "name": "xcpp"
  },
  "language_info": {
   "file_extension": "cpp",
   "mimetype": "x-c++src",
   "name": "xcpp",
   "version": "14"
  }
 },
 "nbformat": 4,
 "nbformat_minor": 4
}
